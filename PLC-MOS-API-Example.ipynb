{
 "cells": [
  {
   "cell_type": "code",
   "execution_count": 1,
   "id": "4a7b2b90-a1d4-4dbd-a75c-d77dfbda2718",
   "metadata": {},
   "outputs": [],
   "source": [
    "import requests\n",
    "import soundfile as sf\n",
    "import base64\n",
    "import json"
   ]
  },
  {
   "cell_type": "code",
   "execution_count": 2,
   "id": "264141c9-1abb-420e-a183-4cf456bdb1b0",
   "metadata": {},
   "outputs": [
    {
     "data": {
      "text/plain": [
       "'OK'"
      ]
     },
     "execution_count": 2,
     "metadata": {},
     "output_type": "execute_result"
    }
   ],
   "source": [
    "API_BASE_URL = \"https://dnsmos.azurewebsites.net/\"\n",
    "resp = requests.get(API_BASE_URL + \"health\")\n",
    "resp.text"
   ]
  },
  {
   "cell_type": "code",
   "execution_count": 3,
   "id": "f196d7fd-f8ec-4d80-81b3-68ef8a7c3f71",
   "metadata": {},
   "outputs": [],
   "source": [
    "audio, sr = sf.read(\"healed_audio.wav\")\n",
    "assert sr == 16000\n",
    "\n",
    "audio_clean, sr = sf.read(r\"reference_audio.wav\")\n",
    "assert sr == 16000"
   ]
  },
  {
   "cell_type": "code",
   "execution_count": 4,
   "id": "02c135f8-a2e9-4a84-886c-6b0a0e6bf827",
   "metadata": {},
   "outputs": [],
   "source": [
    "headers = {\n",
    "    'Content-Type': 'application/json',\n",
    "    'Authorization': 'Basic ' + base64.b64encode(\"ic3-ai:plcmos-2022\".encode(\"utf-8\")).decode(\"utf-8\")\n",
    "}\n",
    "data = {\n",
    "    \"degraded\": audio.tolist(), \n",
    "    \"reference\": audio_clean.tolist(), \n",
    "    \"filename\": \"ignored\"\n",
    "}\n",
    "resp = requests.post(API_BASE_URL + \"score-plc\", data=json.dumps(data), headers=headers)"
   ]
  },
  {
   "cell_type": "code",
   "execution_count": 5,
   "id": "15eeef35-ba7b-40df-b521-286c5d9f9969",
   "metadata": {},
   "outputs": [
    {
     "data": {
      "text/plain": [
       "{'model_version': 1, 'plc_mos': 2.966283917427063}"
      ]
     },
     "execution_count": 5,
     "metadata": {},
     "output_type": "execute_result"
    }
   ],
   "source": [
    "resp.json()"
   ]
  },
  {
   "cell_type": "code",
   "execution_count": null,
   "id": "66af5df0-59d6-45ce-85bc-10512adcc08d",
   "metadata": {},
   "outputs": [],
   "source": []
  }
 ],
 "metadata": {
  "kernelspec": {
   "display_name": "Python 3 (ipykernel)",
   "language": "python",
   "name": "python3"
  },
  "language_info": {
   "codemirror_mode": {
    "name": "ipython",
    "version": 3
   },
   "file_extension": ".py",
   "mimetype": "text/x-python",
   "name": "python",
   "nbconvert_exporter": "python",
   "pygments_lexer": "ipython3",
   "version": "3.8.12"
  }
 },
 "nbformat": 4,
 "nbformat_minor": 5
}
